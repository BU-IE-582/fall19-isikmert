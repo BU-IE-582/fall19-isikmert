{
 "cells": [
  {
   "cell_type": "code",
   "execution_count": 1,
   "metadata": {},
   "outputs": [],
   "source": [
    "#****Task 2 & Book_Maker: Unibet*******\n",
    "\n",
    "import numpy as np\n",
    "import pandas as pd\n",
    "from pandas import DataFrame\n",
    "import csv\n",
    "from matplotlib import pyplot as plt\n",
    "bets=pd.read_csv('C:\\\\Users\\\\MERT\\\\Desktop\\\\Dersler\\\\Data Mining\\\\Veriler\\\\bets.csv')\n",
    "matches=pd.read_csv('C:\\\\Users\\\\MERT\\\\Desktop\\\\Dersler\\\\Data Mining\\\\Veriler\\\\matches.csv')"
   ]
  },
  {
   "cell_type": "code",
   "execution_count": 2,
   "metadata": {},
   "outputs": [],
   "source": [
    "Third_Book_Maker=bets[bets.odd_bookmakers=='Unibet'] #third bookmaker is Unibet\n",
    "Home_Win_List=Third_Book_Maker[Third_Book_Maker.variable=='odd_1'] #home, away and draft win filtered seperately\n",
    "Away_Win_List=Third_Book_Maker[Third_Book_Maker.variable=='odd_2']\n",
    "Draft_List=Third_Book_Maker[Third_Book_Maker.variable=='odd_x']\n",
    "Premier_League=matches[matches.league_id==148]"
   ]
  },
  {
   "cell_type": "code",
   "execution_count": 3,
   "metadata": {},
   "outputs": [],
   "source": [
    "data= pd.merge(Home_Win_List,Away_Win_List,on='match_id',how='inner') #firstly merge home and away win for a match\n",
    "data_1=pd.merge(data,Premier_League,on='match_id',how='inner') #secondly with merge premier league match to eliminate others"
   ]
  },
  {
   "cell_type": "code",
   "execution_count": 4,
   "metadata": {},
   "outputs": [],
   "source": [
    "data_2=pd.merge(data_1,Draft_List,on='match_id',how='inner') #finally draft merged to data"
   ]
  },
  {
   "cell_type": "code",
   "execution_count": 5,
   "metadata": {},
   "outputs": [],
   "source": [
    "data_2['Prob_Home']=1/(data_2['value_x'])  #probability of home team win"
   ]
  },
  {
   "cell_type": "code",
   "execution_count": 6,
   "metadata": {},
   "outputs": [],
   "source": [
    "data_2['Prob_Away']=1/(data_2['value_y'])  #probability of away team win"
   ]
  },
  {
   "cell_type": "code",
   "execution_count": 7,
   "metadata": {},
   "outputs": [],
   "source": [
    "data_2['Prob_Draft']=1/(data_2['value'])   #probability of draft"
   ]
  },
  {
   "cell_type": "code",
   "execution_count": 8,
   "metadata": {},
   "outputs": [],
   "source": [
    "Norm_Home=(data_2['Prob_Home'])/(data_2['Prob_Home']+data_2['Prob_Away']+data_2['Prob_Draft']) #normalization\n",
    "Norm_Away=(data_2['Prob_Away'])/(data_2['Prob_Home']+data_2['Prob_Away']+data_2['Prob_Draft']) \n",
    "Norm_Draft=(data_2['Prob_Draft'])/(data_2['Prob_Home']+data_2['Prob_Away']+data_2['Prob_Draft'])\n",
    "match_id=data_2['match_id']\n",
    "norm_bet={'match_id':match_id,\n",
    "         'Norm_Home':Norm_Home,\n",
    "         'Norm_Away':Norm_Away,\n",
    "         'Norm_Draft':Norm_Draft}\n"
   ]
  },
  {
   "cell_type": "code",
   "execution_count": 9,
   "metadata": {},
   "outputs": [
    {
     "name": "stdout",
     "output_type": "stream",
     "text": [
      "     match_id  Norm_Home  Norm_Away  Norm_Draft\n",
      "0      150842   0.702435   0.111587    0.185978\n",
      "1      150843   0.603100   0.167012    0.229888\n",
      "2      150844   0.707328   0.104958    0.187714\n",
      "3      154513   0.319976   0.379738    0.300285\n",
      "4      154516   0.687688   0.110968    0.201344\n",
      "5      154517   0.147971   0.630072    0.221957\n",
      "6      154518   0.075089   0.774732    0.150179\n",
      "7      154519   0.348651   0.368386    0.282963\n",
      "8      155388   0.278729   0.464548    0.256724\n",
      "9      156200   0.325544   0.364415    0.310042\n",
      "10     156845   0.613171   0.146218    0.240611\n",
      "11     156847   0.431766   0.271396    0.296839\n",
      "12     156848   0.856164   0.047945    0.095890\n",
      "13     156849   0.380040   0.327621    0.292339\n",
      "14     156850   0.224325   0.507117    0.268558\n",
      "15     158697   0.319527   0.360947    0.319527\n",
      "16     158699   0.093160   0.741046    0.165793\n",
      "17     158538   0.078073   0.756519    0.165408\n",
      "18     158539   0.641835   0.125882    0.232283\n",
      "19     158541   0.174535   0.568255    0.257210\n",
      "20     158542   0.411893   0.316944    0.271163\n",
      "21     158543   0.712749   0.097647    0.189605\n",
      "22     159175   0.162858   0.622385    0.214757\n",
      "23     159177   0.334270   0.349790    0.315939\n",
      "24     159180   0.429993   0.282923    0.287084\n",
      "25     159181   0.253390   0.482947    0.263663\n",
      "26     159182   0.244147   0.488294    0.267559\n",
      "27     159814   0.336176   0.355204    0.308620\n",
      "28     160597   0.563875   0.184057    0.252068\n",
      "29     161169   0.802752   0.068807    0.128440\n",
      "..        ...        ...        ...         ...\n",
      "255    224464   0.361158   0.367973    0.270869\n",
      "256    224482   0.471893   0.260485    0.267622\n",
      "257    224475   0.488243   0.264465    0.247292\n",
      "258    224478   0.579053   0.166163    0.254783\n",
      "259    224479   0.301837   0.422572    0.275591\n",
      "260    224480   0.875421   0.037037    0.087542\n",
      "261    224474   0.690369   0.119089    0.190542\n",
      "262    224476   0.256253   0.480474    0.263273\n",
      "263    224477   0.333938   0.373225    0.292838\n",
      "264    224483   0.268697   0.476937    0.254366\n",
      "265    224484   0.418836   0.303994    0.277171\n",
      "266    224485   0.405523   0.340350    0.254128\n",
      "267    224486   0.664433   0.127571    0.207996\n",
      "268    224487   0.476937   0.254366    0.268697\n",
      "269    224489   0.626118   0.135957    0.237925\n",
      "270    224490   0.423244   0.312229    0.264527\n",
      "271    224491   0.095937   0.721327    0.182736\n",
      "272    224492   0.680923   0.111139    0.207938\n",
      "273    224493   0.499307   0.237171    0.263523\n",
      "274    307209   0.464003   0.264224    0.271773\n",
      "275    224495   0.226730   0.501193    0.272076\n",
      "276    224496   0.317706   0.389027    0.293267\n",
      "277    224497   0.676073   0.128003    0.195923\n",
      "278    224500   0.407468   0.330190    0.262342\n",
      "279    224502   0.435685   0.273859    0.290456\n",
      "280    224503   0.475398   0.260492    0.264110\n",
      "281    224494   0.681818   0.127273    0.190909\n",
      "282    224498   0.857199   0.041742    0.101059\n",
      "283    224499   0.200023   0.516363    0.283614\n",
      "284    224501   0.250000   0.500000    0.250000\n",
      "\n",
      "[285 rows x 4 columns]\n"
     ]
    }
   ],
   "source": [
    "norm_prob= DataFrame(norm_bet,columns=['match_id','Norm_Home', 'Norm_Away', 'Norm_Draft'])\n",
    "print(norm_prob)"
   ]
  },
  {
   "cell_type": "code",
   "execution_count": 10,
   "metadata": {},
   "outputs": [],
   "source": [
    "x=data_2['Prob_Home']-data_2['Prob_Away']"
   ]
  },
  {
   "cell_type": "code",
   "execution_count": 11,
   "metadata": {},
   "outputs": [],
   "source": [
    "y=data_2['Prob_Draft']"
   ]
  },
  {
   "cell_type": "code",
   "execution_count": 12,
   "metadata": {},
   "outputs": [
    {
     "data": {
      "text/plain": [
       "Text(0.5,1,'Unibet')"
      ]
     },
     "execution_count": 12,
     "metadata": {},
     "output_type": "execute_result"
    },
    {
     "data": {
      "image/png": "[encoded data removed]",
      "text/plain": [
       "<matplotlib.figure.Figure at 0x1fb559236a0>"
      ]
     },
     "metadata": {},
     "output_type": "display_data"
    }
   ],
   "source": [
    "plt.plot(x,y,'.',color='blue')\n",
    "plt.xlabel('P(Home Win) - P(Away Win)')\n",
    "plt.ylabel('P(Draft)')\n",
    "plt.title('Unibet')"
   ]
  },
  {
   "cell_type": "code",
   "execution_count": 13,
   "metadata": {},
   "outputs": [],
   "source": [
    "data_2['dif']=data_2['Prob_Home']-data_2['Prob_Away']"
   ]
  },
  {
   "cell_type": "code",
   "execution_count": 14,
   "metadata": {},
   "outputs": [],
   "source": [
    "data_3=pd.merge(data_2,matches,on='match_id',how='inner') #merging the match score and probabilities with respect to match_id"
   ]
  },
  {
   "cell_type": "code",
   "execution_count": 15,
   "metadata": {},
   "outputs": [],
   "source": [
    "draft_matches = data_3[data_3.match_hometeam_score_y == data_3.match_awayteam_score_y] #filtering only draft matches\n",
    "a = np.histogram(draft_matches['dif'], bins=np.arange(-1, 1.1, 0.1))[0]  #defining bins with 0,1 and calculating the draft matches in these bins"
   ]
  },
  {
   "cell_type": "code",
   "execution_count": 16,
   "metadata": {},
   "outputs": [],
   "source": [
    "b = np.histogram(data_3['dif'], bins=np.arange(-1, 1.1, 0.1))[0] #calculating all matches in these bins\n",
    "for index in range(len(b)):\n",
    "    if b[index]==0:                        #preventing 0/0, dont affect the result \n",
    "        b[index]=1\n",
    "    "
   ]
  },
  {
   "cell_type": "code",
   "execution_count": 17,
   "metadata": {},
   "outputs": [],
   "source": [
    "actual_prob_draft=np.true_divide(a, b)  #real draft match rates\n"
   ]
  },
  {
   "cell_type": "code",
   "execution_count": 18,
   "metadata": {
    "scrolled": true
   },
   "outputs": [
    {
     "data": {
      "text/plain": [
       "Text(0.5,1,'Unibet')"
      ]
     },
     "execution_count": 18,
     "metadata": {},
     "output_type": "execute_result"
    },
    {
     "data": {
      "image/png": "[encoded data removed]",
      "text/plain": [
       "<matplotlib.figure.Figure at 0x1fb55aff080>"
      ]
     },
     "metadata": {},
     "output_type": "display_data"
    }
   ],
   "source": [
    "plt.plot(np.arange(-0.9,1.1,0.1),actual_prob_draft,'X',color='red')\n",
    "plt.plot(x,y,'.',color='blue')\n",
    "plt.xlabel('P(Home Win) - P(Away Win)')\n",
    "plt.ylabel('P(Draft)')\n",
    "plt.title('Unibet')"
   ]
  },
  {
   "cell_type": "code",
   "execution_count": 19,
   "metadata": {},
   "outputs": [],
   "source": [
    "# Comment: There is no bias in odds representing the probabilities"
   ]
  }
 ],
 "metadata": {
  "kernelspec": {
   "display_name": "Python 3",
   "language": "python",
   "name": "python3"
  },
  "language_info": {
   "codemirror_mode": {
    "name": "ipython",
    "version": 3
   },
   "file_extension": ".py",
   "mimetype": "text/x-python",
   "name": "python",
   "nbconvert_exporter": "python",
   "pygments_lexer": "ipython3",
   "version": "3.6.4"
  }
 },
 "nbformat": 4,
 "nbformat_minor": 2
}
