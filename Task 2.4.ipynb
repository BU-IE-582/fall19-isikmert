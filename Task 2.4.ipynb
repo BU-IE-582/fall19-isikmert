{
 "cells": [
  {
   "cell_type": "code",
   "execution_count": 1,
   "metadata": {},
   "outputs": [],
   "source": [
    "#****Task 2 & Book_Maker: 5Dimes*******\n",
    "\n",
    "\n",
    "import numpy as np\n",
    "import pandas as pd\n",
    "from pandas import DataFrame\n",
    "import csv\n",
    "from matplotlib import pyplot as plt\n",
    "bets=pd.read_csv('C:\\\\Users\\\\MERT\\\\Desktop\\\\Dersler\\\\Data Mining\\\\Veriler\\\\bets.csv')\n",
    "matches=pd.read_csv('C:\\\\Users\\\\MERT\\\\Desktop\\\\Dersler\\\\Data Mining\\\\Veriler\\\\matches.csv')"
   ]
  },
  {
   "cell_type": "code",
   "execution_count": 2,
   "metadata": {},
   "outputs": [],
   "source": [
    "Fourth_Book_Maker=bets[bets.odd_bookmakers=='5Dimes'] #fourth bookmaker is 5Dimes\n",
    "Home_Win_List=Fourth_Book_Maker[Fourth_Book_Maker.variable=='odd_1'] #home, away and draft win filtered seperately\n",
    "Away_Win_List=Fourth_Book_Maker[Fourth_Book_Maker.variable=='odd_2']\n",
    "Draft_List=Fourth_Book_Maker[Fourth_Book_Maker.variable=='odd_x']\n",
    "Premier_League=matches[matches.league_id==148]"
   ]
  },
  {
   "cell_type": "code",
   "execution_count": 3,
   "metadata": {},
   "outputs": [],
   "source": [
    "data= pd.merge(Home_Win_List,Away_Win_List,on='match_id',how='inner') #firstly merge home and away win for a match\n",
    "data_1=pd.merge(data,Premier_League,on='match_id',how='inner') #secondly with merge premier league match to eliminate others"
   ]
  },
  {
   "cell_type": "code",
   "execution_count": 4,
   "metadata": {},
   "outputs": [],
   "source": [
    "data_2=pd.merge(data_1,Draft_List,on='match_id',how='inner') #finally draft merged to data"
   ]
  },
  {
   "cell_type": "code",
   "execution_count": 5,
   "metadata": {},
   "outputs": [],
   "source": [
    "data_2['Prob_Home']=1/(data_2['value_x'])  #probability of home team win"
   ]
  },
  {
   "cell_type": "code",
   "execution_count": 6,
   "metadata": {},
   "outputs": [],
   "source": [
    "data_2['Prob_Away']=1/(data_2['value_y'])  #probability of away team win"
   ]
  },
  {
   "cell_type": "code",
   "execution_count": 7,
   "metadata": {},
   "outputs": [],
   "source": [
    "data_2['Prob_Draft']=1/(data_2['value'])   #probability of draft"
   ]
  },
  {
   "cell_type": "code",
   "execution_count": 8,
   "metadata": {},
   "outputs": [],
   "source": [
    "Norm_Home=(data_2['Prob_Home'])/(data_2['Prob_Home']+data_2['Prob_Away']+data_2['Prob_Draft']) #normalization\n",
    "Norm_Away=(data_2['Prob_Away'])/(data_2['Prob_Home']+data_2['Prob_Away']+data_2['Prob_Draft']) \n",
    "Norm_Draft=(data_2['Prob_Draft'])/(data_2['Prob_Home']+data_2['Prob_Away']+data_2['Prob_Draft'])\n",
    "match_id=data_2['match_id']\n",
    "norm_bet={'match_id':match_id,\n",
    "         'Norm_Home':Norm_Home,\n",
    "         'Norm_Away':Norm_Away,\n",
    "         'Norm_Draft':Norm_Draft}\n"
   ]
  },
  {
   "cell_type": "code",
   "execution_count": 9,
   "metadata": {},
   "outputs": [
    {
     "name": "stdout",
     "output_type": "stream",
     "text": [
      "    match_id  Norm_Home  Norm_Away  Norm_Draft\n",
      "0     150842   0.691261   0.110633    0.198105\n",
      "1     150843   0.587216   0.174183    0.238601\n",
      "2     150844   0.713405   0.106933    0.179663\n",
      "3     154513   0.318205   0.381106    0.300689\n",
      "4     154516   0.693188   0.113651    0.193161\n",
      "5     154517   0.147739   0.630987    0.221274\n",
      "6     154518   0.078758   0.772462    0.148779\n",
      "7     154519   0.347365   0.370960    0.281675\n",
      "8     155388   0.276250   0.468309    0.255441\n",
      "9     156200   0.334269   0.349734    0.315997\n",
      "10    156849   0.378418   0.317817    0.303764\n",
      "11    158697   0.322041   0.361112    0.316847\n",
      "12    158699   0.092670   0.732231    0.175099\n",
      "13    158538   0.079727   0.750921    0.169351\n",
      "14    158539   0.636335   0.128099    0.235566\n",
      "15    158541   0.175638   0.569802    0.254561\n",
      "16    158542   0.410808   0.315701    0.273491\n",
      "17    158543   0.714960   0.096312    0.188727\n",
      "18    159175   0.153262   0.628766    0.217972\n",
      "19    159177   0.326529   0.352277    0.321194\n",
      "20    159180   0.431836   0.274258    0.293906\n",
      "21    159181   0.251309   0.481675    0.267016\n",
      "22    159182   0.243197   0.491258    0.265545\n",
      "23    160597   0.561278   0.183596    0.255126\n",
      "24    161695   0.112573   0.675439    0.211988\n",
      "25    161696   0.216512   0.538900    0.244588\n",
      "26    161697   0.639745   0.131561    0.228694\n",
      "27    162557   0.392411   0.332348    0.275241\n",
      "28    162558   0.700284   0.105271    0.194445\n",
      "29    162714   0.143698   0.619357    0.236945\n",
      "..       ...        ...        ...         ...\n",
      "69    167626   0.801859   0.061486    0.136655\n",
      "70    167627   0.737165   0.088139    0.174696\n",
      "71    167629   0.343590   0.370921    0.285490\n",
      "72    167630   0.591920   0.170448    0.237632\n",
      "73    167631   0.316398   0.410390    0.273212\n",
      "74    169790   0.386071   0.329987    0.283942\n",
      "75    169878   0.885136   0.041836    0.073029\n",
      "76    169880   0.330589   0.380756    0.288656\n",
      "77    171045   0.466645   0.252566    0.280789\n",
      "78    171046   0.755754   0.079005    0.165241\n",
      "79    171047   0.061485   0.814285    0.124231\n",
      "80    171181   0.180408   0.580958    0.238633\n",
      "81    171182   0.394052   0.316512    0.289436\n",
      "82    171183   0.775904   0.076248    0.147848\n",
      "83    171719   0.682680   0.106926    0.210395\n",
      "84    171720   0.372372   0.330858    0.296770\n",
      "85    171721   0.374768   0.334981    0.290251\n",
      "86    171724   0.377188   0.324731    0.298081\n",
      "87    173205   0.107420   0.716927    0.175654\n",
      "88    173464   0.101615   0.737480    0.160905\n",
      "89    173826   0.330964   0.384387    0.284648\n",
      "90    174029   0.453797   0.262086    0.284117\n",
      "91    174031   0.813617   0.059655    0.126728\n",
      "92    174033   0.406182   0.305906    0.287912\n",
      "93    174034   0.476169   0.231893    0.291937\n",
      "94    175509   0.531084   0.183303    0.285612\n",
      "95    177974   0.475548   0.250610    0.273841\n",
      "96    178780   0.166035   0.586590    0.247375\n",
      "97    178781   0.340082   0.370999    0.288919\n",
      "98    178783   0.430881   0.276735    0.292384\n",
      "\n",
      "[99 rows x 4 columns]\n"
     ]
    }
   ],
   "source": [
    "norm_prob= DataFrame(norm_bet,columns=['match_id','Norm_Home', 'Norm_Away', 'Norm_Draft'])\n",
    "print(norm_prob)"
   ]
  },
  {
   "cell_type": "code",
   "execution_count": 10,
   "metadata": {},
   "outputs": [],
   "source": [
    "x=data_2['Prob_Home']-data_2['Prob_Away']"
   ]
  },
  {
   "cell_type": "code",
   "execution_count": 11,
   "metadata": {},
   "outputs": [],
   "source": [
    "y=data_2['Prob_Draft']"
   ]
  },
  {
   "cell_type": "code",
   "execution_count": 12,
   "metadata": {},
   "outputs": [
    {
     "data": {
      "text/plain": [
       "Text(0.5,1,'5Dimes')"
      ]
     },
     "execution_count": 12,
     "metadata": {},
     "output_type": "execute_result"
    },
    {
     "data": {
      "image/png": "[encoded data removed]",
      "text/plain": [
       "<matplotlib.figure.Figure at 0x28299eb3748>"
      ]
     },
     "metadata": {},
     "output_type": "display_data"
    }
   ],
   "source": [
    "plt.plot(x,y,'.',color='blue')\n",
    "plt.xlabel('P(Home Win) - P(Away Win)')\n",
    "plt.ylabel('P(Draft)')\n",
    "plt.title('5Dimes')"
   ]
  },
  {
   "cell_type": "code",
   "execution_count": 13,
   "metadata": {},
   "outputs": [],
   "source": [
    "data_2['dif']=data_2['Prob_Home']-data_2['Prob_Away']"
   ]
  },
  {
   "cell_type": "code",
   "execution_count": 14,
   "metadata": {},
   "outputs": [],
   "source": [
    "data_3=pd.merge(data_2,matches,on='match_id',how='inner') #merging the match score and probabilities with respect to match_id"
   ]
  },
  {
   "cell_type": "code",
   "execution_count": 15,
   "metadata": {},
   "outputs": [],
   "source": [
    "draft_matches = data_3[data_3.match_hometeam_score_y == data_3.match_awayteam_score_y] #filtering only draft matches\n",
    "a = np.histogram(draft_matches['dif'], bins=np.arange(-1, 1.1, 0.1))[0]  #defining bins with 0,1 and calculating the draft matches in these bins"
   ]
  },
  {
   "cell_type": "code",
   "execution_count": 16,
   "metadata": {},
   "outputs": [],
   "source": [
    "b = np.histogram(data_3['dif'], bins=np.arange(-1, 1.1, 0.1))[0] #calculating all matches in these bins\n",
    "for index in range(len(b)):\n",
    "    if b[index]==0:                        #preventing 0/0, dont affect the result \n",
    "        b[index]=1\n",
    "    "
   ]
  },
  {
   "cell_type": "code",
   "execution_count": 17,
   "metadata": {},
   "outputs": [],
   "source": [
    "actual_prob_draft=np.true_divide(a, b)  #real draft match rates\n"
   ]
  },
  {
   "cell_type": "code",
   "execution_count": 18,
   "metadata": {
    "scrolled": true
   },
   "outputs": [
    {
     "data": {
      "text/plain": [
       "Text(0.5,1,'5Dimes')"
      ]
     },
     "execution_count": 18,
     "metadata": {},
     "output_type": "execute_result"
    },
    {
     "data": {
      "image/png": "[encoded data removed]",
      "text/plain": [
       "<matplotlib.figure.Figure at 0x28299abe940>"
      ]
     },
     "metadata": {},
     "output_type": "display_data"
    }
   ],
   "source": [
    "plt.plot(np.arange(-0.9,1.1,0.1),actual_prob_draft,'X',color='red')\n",
    "plt.plot(x,y,'.',color='blue')\n",
    "plt.xlabel('P(Home Win) - P(Away Win)')\n",
    "plt.ylabel('P(Draft)')\n",
    "plt.title('5Dimes')"
   ]
  },
  {
   "cell_type": "code",
   "execution_count": 19,
   "metadata": {},
   "outputs": [],
   "source": [
    "#Comment: There is no bias in odds representing the probabilities."
   ]
  }
 ],
 "metadata": {
  "kernelspec": {
   "display_name": "Python 3",
   "language": "python",
   "name": "python3"
  },
  "language_info": {
   "codemirror_mode": {
    "name": "ipython",
    "version": 3
   },
   "file_extension": ".py",
   "mimetype": "text/x-python",
   "name": "python",
   "nbconvert_exporter": "python",
   "pygments_lexer": "ipython3",
   "version": "3.6.4"
  }
 },
 "nbformat": 4,
 "nbformat_minor": 2
}
