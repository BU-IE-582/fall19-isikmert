{
 "cells": [
  {
   "cell_type": "code",
   "execution_count": 1,
   "metadata": {},
   "outputs": [],
   "source": [
    "#****Task 3 & Book_Maker: 5Dimes*****\n",
    "\n",
    "import numpy as np\n",
    "import pandas as pd\n",
    "import csv\n",
    "import os\n",
    "from matplotlib import pyplot as plt"
   ]
  },
  {
   "cell_type": "code",
   "execution_count": 2,
   "metadata": {},
   "outputs": [],
   "source": [
    "booking=pd.read_csv('C:\\\\Users\\\\MERT\\\\Desktop\\\\Dersler\\\\Data Mining\\\\Veriler\\\\booking.csv')\n",
    "matches=pd.read_csv('C:\\\\Users\\\\MERT\\\\Desktop\\\\Dersler\\\\Data Mining\\\\Veriler\\\\matches.csv')"
   ]
  },
  {
   "cell_type": "code",
   "execution_count": 3,
   "metadata": {},
   "outputs": [],
   "source": [
    "Early_Time=booking[booking.time<='30']  #firstly before 30min is filtered"
   ]
  },
  {
   "cell_type": "code",
   "execution_count": 4,
   "metadata": {},
   "outputs": [],
   "source": [
    "Early_Time_Red=Early_Time[Early_Time.card=='red card'] #additionally red cards filtered"
   ]
  },
  {
   "cell_type": "code",
   "execution_count": 5,
   "metadata": {},
   "outputs": [],
   "source": [
    "bets=pd.read_csv('C:\\\\Users\\\\MERT\\\\Desktop\\\\Dersler\\\\Data Mining\\\\Veriler\\\\bets.csv')"
   ]
  },
  {
   "cell_type": "code",
   "execution_count": 6,
   "metadata": {},
   "outputs": [],
   "source": [
    "Fourth_Book_Maker=bets[bets.odd_bookmakers=='5Dimes'] #fourth bookmaker is =5Dimes"
   ]
  },
  {
   "cell_type": "code",
   "execution_count": 7,
   "metadata": {},
   "outputs": [],
   "source": [
    "Premier_League=matches[matches.league_id==148]\n",
    "Home_Win_List=Fourth_Book_Maker[Fourth_Book_Maker.variable=='odd_1']\n",
    "Away_Win_List=Fourth_Book_Maker[Fourth_Book_Maker.variable=='odd_2']\n",
    "Draft_List=Fourth_Book_Maker[Fourth_Book_Maker.variable=='odd_x']\n"
   ]
  },
  {
   "cell_type": "code",
   "execution_count": 8,
   "metadata": {},
   "outputs": [],
   "source": [
    "data= pd.merge(Home_Win_List,Away_Win_List,on='match_id',how='inner')\n",
    "data_1=pd.merge(data,Premier_League,on='match_id',how='inner')"
   ]
  },
  {
   "cell_type": "code",
   "execution_count": 9,
   "metadata": {},
   "outputs": [],
   "source": [
    "data_2=pd.merge(data_1,Draft_List,on='match_id',how='inner')"
   ]
  },
  {
   "cell_type": "code",
   "execution_count": 10,
   "metadata": {},
   "outputs": [],
   "source": [
    "intersection=pd.merge(data_2,Early_Time_Red,on='match_id',how='inner')   #for the drop function intersection between row data and early red is needed\n",
    "                                                                            "
   ]
  },
  {
   "cell_type": "code",
   "execution_count": 11,
   "metadata": {},
   "outputs": [],
   "source": [
    "a=intersection.match_id #common match_id selected to remove"
   ]
  },
  {
   "cell_type": "code",
   "execution_count": 12,
   "metadata": {},
   "outputs": [],
   "source": [
    "data_2=data_2.set_index('match_id')"
   ]
  },
  {
   "cell_type": "code",
   "execution_count": 13,
   "metadata": {},
   "outputs": [],
   "source": [
    "data_2=data_2.drop(a,axis=0)  #matches in which occurs fault with red card before  30 min reduced"
   ]
  },
  {
   "cell_type": "code",
   "execution_count": 14,
   "metadata": {},
   "outputs": [],
   "source": [
    "data_2['Prob_Home']=1/(data_2['value_x'])\n",
    "data_2['Prob_Away']=1/(data_2['value_y'])\n",
    "data_2['Prob_Draft']=1/(data_2['value'])\n",
    "\n"
   ]
  },
  {
   "cell_type": "code",
   "execution_count": 15,
   "metadata": {},
   "outputs": [
    {
     "data": {
      "text/plain": [
       "Text(0.5,1,'5Dimes')"
      ]
     },
     "execution_count": 15,
     "metadata": {},
     "output_type": "execute_result"
    },
    {
     "data": {
      "image/png": "[encoded data removed]",
      "text/plain": [
       "<matplotlib.figure.Figure at 0x22e9c08d160>"
      ]
     },
     "metadata": {},
     "output_type": "display_data"
    }
   ],
   "source": [
    "x=data_2['Prob_Home']-data_2['Prob_Away']\n",
    "y=data_2['Prob_Draft']\n",
    "plt.plot(x,y,'.',color='blue')\n",
    "plt.xlabel('P(Home Win) - P(Away Win)')\n",
    "plt.ylabel('P(Draft)')\n",
    "plt.title('5Dimes')"
   ]
  },
  {
   "cell_type": "code",
   "execution_count": 16,
   "metadata": {},
   "outputs": [],
   "source": [
    "data_2['dif']=data_2['Prob_Home']-data_2['Prob_Away']\n",
    "data_2.reset_index(inplace=True)   #reseting index is needed for merging"
   ]
  },
  {
   "cell_type": "code",
   "execution_count": 17,
   "metadata": {},
   "outputs": [],
   "source": [
    "data_3=pd.merge(data_2,matches,on='match_id',how='inner') #merging the match score and probabilities with respect to match_id"
   ]
  },
  {
   "cell_type": "code",
   "execution_count": 18,
   "metadata": {},
   "outputs": [],
   "source": [
    "draft_matches = data_3[data_3.match_hometeam_score_y == data_3.match_awayteam_score_y] #filtering only draft matches\n",
    "a = np.histogram(draft_matches['dif'], bins=np.arange(-1, 1.1, 0.1))[0]  #defining bins with 0,1 and calculating the draft matches in these bins"
   ]
  },
  {
   "cell_type": "code",
   "execution_count": 19,
   "metadata": {},
   "outputs": [],
   "source": [
    "b = np.histogram(data_3['dif'], bins=np.arange(-1, 1.1, 0.1))[0] #calculating all matches in these bins\n",
    "for index in range(len(b)):\n",
    "    if b[index]==0:                        #preventing 0/0, dont affect the result \n",
    "        b[index]=1\n",
    "    "
   ]
  },
  {
   "cell_type": "code",
   "execution_count": 20,
   "metadata": {},
   "outputs": [],
   "source": [
    "actual_prob_draft=np.true_divide(a, b)  #real draft match rates"
   ]
  },
  {
   "cell_type": "code",
   "execution_count": 21,
   "metadata": {},
   "outputs": [
    {
     "data": {
      "text/plain": [
       "Text(0.5,1,'5Dimes')"
      ]
     },
     "execution_count": 21,
     "metadata": {},
     "output_type": "execute_result"
    },
    {
     "data": {
      "image/png": "[encoded data removed]",
      "text/plain": [
       "<matplotlib.figure.Figure at 0x22e9c4eef60>"
      ]
     },
     "metadata": {},
     "output_type": "display_data"
    }
   ],
   "source": [
    "plt.plot(np.arange(-0.9,1.1,0.1),actual_prob_draft,'X',color='red')\n",
    "plt.plot(x,y,'.',color='blue')\n",
    "plt.xlabel('P(Home Win) - P(Away Win)')\n",
    "plt.ylabel('P(Draft)')\n",
    "plt.title('5Dimes')"
   ]
  },
  {
   "cell_type": "code",
   "execution_count": 22,
   "metadata": {},
   "outputs": [],
   "source": [
    "#Comment: ****There is no significant change comparing to Task 2 output.*****"
   ]
  }
 ],
 "metadata": {
  "kernelspec": {
   "display_name": "Python 3",
   "language": "python",
   "name": "python3"
  },
  "language_info": {
   "codemirror_mode": {
    "name": "ipython",
    "version": 3
   },
   "file_extension": ".py",
   "mimetype": "text/x-python",
   "name": "python",
   "nbconvert_exporter": "python",
   "pygments_lexer": "ipython3",
   "version": "3.6.4"
  }
 },
 "nbformat": 4,
 "nbformat_minor": 2
}
