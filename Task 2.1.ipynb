{
 "cells": [
  {
   "cell_type": "code",
   "execution_count": 2,
   "metadata": {},
   "outputs": [],
   "source": [
    "#****Task 2 & Book_Maker: 1xBet********\n",
    "\n",
    "import numpy as np\n",
    "import pandas as pd\n",
    "from pandas import DataFrame\n",
    "import csv\n",
    "from matplotlib import pyplot as plt\n",
    "bets=pd.read_csv('C:\\\\Users\\\\MERT\\\\Desktop\\\\Dersler\\\\Data Mining\\\\Veriler\\\\bets.csv')\n",
    "matches=pd.read_csv('C:\\\\Users\\\\MERT\\\\Desktop\\\\Dersler\\\\Data Mining\\\\Veriler\\\\matches.csv')"
   ]
  },
  {
   "cell_type": "code",
   "execution_count": 3,
   "metadata": {},
   "outputs": [],
   "source": [
    "First_Book_Maker=bets[bets.odd_bookmakers=='1xBet'] #first bookmaker is =1xBet\n",
    "Home_Win_List1=First_Book_Maker[First_Book_Maker.variable=='odd_1'] #home, away and draft win filtered seperately\n",
    "Away_Win_List1=First_Book_Maker[First_Book_Maker.variable=='odd_2']\n",
    "Draft_List1=First_Book_Maker[First_Book_Maker.variable=='odd_x']\n",
    "Premier_League=matches[matches.league_id==148]"
   ]
  },
  {
   "cell_type": "code",
   "execution_count": 4,
   "metadata": {},
   "outputs": [],
   "source": [
    "data1= pd.merge(Home_Win_List1,Away_Win_List1,on='match_id',how='inner') #firstly merge home and away win for a match\n",
    "data1_1=pd.merge(data1,Premier_League,on='match_id',how='inner') #secondly with merge premier league match to eliminate others"
   ]
  },
  {
   "cell_type": "code",
   "execution_count": 5,
   "metadata": {},
   "outputs": [],
   "source": [
    "data1_2=pd.merge(data1_1,Draft_List,on='match_id',how='inner') #finally draft merged to data"
   ]
  },
  {
   "cell_type": "code",
   "execution_count": 6,
   "metadata": {},
   "outputs": [],
   "source": [
    "data1_2['Prob_Home']=1/(data1_2['value_x'])  #probability of home team win"
   ]
  },
  {
   "cell_type": "code",
   "execution_count": 7,
   "metadata": {},
   "outputs": [],
   "source": [
    "data1_2['Prob_Away']=1/(data1_2['value_y'])  #probability of away team win"
   ]
  },
  {
   "cell_type": "code",
   "execution_count": 8,
   "metadata": {},
   "outputs": [],
   "source": [
    "data1_2['Prob_Draft']=1/(data1_2['value'])   #probability of draft"
   ]
  },
  {
   "cell_type": "code",
   "execution_count": 9,
   "metadata": {},
   "outputs": [],
   "source": [
    "Norm_Home1=(data1_2['Prob_Home'])/(data1_2['Prob_Home']+data1_2['Prob_Away']+data1_2['Prob_Draft']) #normalization\n",
    "Norm_Away1=(data1_2['Prob_Away'])/(data1_2['Prob_Home']+data1_2['Prob_Away']+data1_2['Prob_Draft']) \n",
    "Norm_Draft1=(data1_2['Prob_Draft'])/(data1_2['Prob_Home']+data1_2['Prob_Away']+data1_2['Prob_Draft'])\n",
    "match_id1=data1_2['match_id']\n",
    "norm_bet1={'match_id':match_id1,\n",
    "         'Norm_Home':Norm_Home1,\n",
    "         'Norm_Away':Norm_Away1,\n",
    "         'Norm_Draft':Norm_Draft1}\n"
   ]
  },
  {
   "cell_type": "code",
   "execution_count": 10,
   "metadata": {},
   "outputs": [
    {
     "name": "stdout",
     "output_type": "stream",
     "text": [
      "     match_id  Norm_Home  Norm_Away  Norm_Draft\n",
      "0      150842   0.695746   0.109106    0.195148\n",
      "1      150843   0.604355   0.170075    0.225569\n",
      "2      150844   0.714071   0.108734    0.177195\n",
      "3      154513   0.317074   0.384219    0.298707\n",
      "4      154516   0.690981   0.112781    0.196239\n",
      "5      154517   0.153262   0.628766    0.217972\n",
      "6      154518   0.078621   0.779973    0.141405\n",
      "7      154519   0.343956   0.372728    0.283316\n",
      "8      155388   0.280334   0.462816    0.256851\n",
      "9      156200   0.330568   0.363503    0.305929\n",
      "10     156845   0.601482   0.149682    0.248836\n",
      "11     156847   0.422750   0.281834    0.295416\n",
      "12     156848   0.872457   0.037918    0.089625\n",
      "13     156849   0.377529   0.325025    0.297447\n",
      "14     156850   0.222787   0.507909    0.269303\n",
      "15     158697   0.320423   0.359155    0.320423\n",
      "16     158699   0.093651   0.733834    0.172515\n",
      "17     158538   0.081889   0.750132    0.167978\n",
      "18     158539   0.636409   0.132442    0.231149\n",
      "19     158541   0.181595   0.560350    0.258056\n",
      "20     158542   0.405386   0.317486    0.277128\n",
      "21     158543   0.718686   0.093771    0.187543\n",
      "22     159175   0.153424   0.625424    0.221152\n",
      "23     159177   0.331517   0.352905    0.315578\n",
      "24     159180   0.434927   0.277665    0.287408\n",
      "25     159181   0.253969   0.485307    0.260724\n",
      "26     159182   0.243867   0.485319    0.270814\n",
      "27     159814   0.333609   0.357960    0.308431\n",
      "28     160597   0.562562   0.186449    0.250989\n",
      "29     161169   0.811549   0.070141    0.118310\n",
      "..        ...        ...        ...         ...\n",
      "257    224475   0.494732   0.259145    0.246123\n",
      "258    224478   0.566059   0.174872    0.259069\n",
      "259    224479   0.310818   0.420205    0.268977\n",
      "260    224480   0.857767   0.044448    0.097785\n",
      "261    224481   0.382502   0.318959    0.298538\n",
      "262    224474   0.705463   0.107758    0.186780\n",
      "263    224476   0.253969   0.485307    0.260724\n",
      "264    224477   0.336927   0.360462    0.302610\n",
      "265    224483   0.273714   0.471104    0.255181\n",
      "266    224484   0.418746   0.312059    0.269194\n",
      "267    224485   0.386330   0.360764    0.252907\n",
      "268    224486   0.649088   0.144136    0.206777\n",
      "269    224487   0.489735   0.251146    0.259119\n",
      "270    224488   0.089304   0.744198    0.166498\n",
      "271    224489   0.633510   0.132695    0.233795\n",
      "272    224490   0.420920   0.323678    0.255402\n",
      "273    224491   0.106538   0.710256    0.183206\n",
      "274    224492   0.680759   0.116701    0.202540\n",
      "275    224493   0.503022   0.226012    0.270965\n",
      "276    307209   0.461243   0.270120    0.268636\n",
      "277    224495   0.235901   0.505850    0.258249\n",
      "278    224496   0.324552   0.378435    0.297014\n",
      "279    224497   0.666792   0.130691    0.202517\n",
      "280    224500   0.410284   0.324695    0.265021\n",
      "281    224502   0.437728   0.273886    0.288386\n",
      "282    224503   0.482759   0.255209    0.262032\n",
      "283    224494   0.676830   0.134439    0.188731\n",
      "284    224498   0.867034   0.034991    0.097975\n",
      "285    224499   0.214127   0.513456    0.272417\n",
      "286    224501   0.241856   0.511426    0.246718\n",
      "\n",
      "[287 rows x 4 columns]\n"
     ]
    }
   ],
   "source": [
    "norm_prob1= DataFrame(norm_bet,columns=['match_id','Norm_Home', 'Norm_Away', 'Norm_Draft'])\n",
    "print(norm_prob1)"
   ]
  },
  {
   "cell_type": "code",
   "execution_count": 11,
   "metadata": {},
   "outputs": [],
   "source": [
    "x1=data1_2['Prob_Home']-data1_2['Prob_Away']"
   ]
  },
  {
   "cell_type": "code",
   "execution_count": 12,
   "metadata": {},
   "outputs": [],
   "source": [
    "y1=data1_2['Prob_Draft']"
   ]
  },
  {
   "cell_type": "code",
   "execution_count": 13,
   "metadata": {},
   "outputs": [
    {
     "data": {
      "text/plain": [
       "Text(0.5,1,'1xBet')"
      ]
     },
     "execution_count": 13,
     "metadata": {},
     "output_type": "execute_result"
    },
    {
     "data": {
      "image/png": "[encoded data removed]",
      "text/plain": [
       "<matplotlib.figure.Figure at 0x2309ebbe780>"
      ]
     },
     "metadata": {},
     "output_type": "display_data"
    }
   ],
   "source": [
    "plt.plot(x1,y1,'.',color='blue')\n",
    "plt.xlabel('P(Home Win) - P(Away Win)')\n",
    "plt.ylabel('P(Draft)')\n",
    "plt.title('1xBet')"
   ]
  },
  {
   "cell_type": "code",
   "execution_count": 14,
   "metadata": {},
   "outputs": [],
   "source": [
    "data1_2['dif']=data1_2['Prob_Home']-data1_2['Prob_Away']"
   ]
  },
  {
   "cell_type": "code",
   "execution_count": 15,
   "metadata": {},
   "outputs": [],
   "source": [
    "data1_3=pd.merge(data1_2,matches,on='match_id',how='inner') #merging the match score and probabilities with respect to match_id"
   ]
  },
  {
   "cell_type": "code",
   "execution_count": 16,
   "metadata": {},
   "outputs": [],
   "source": [
    "draft_matches = data1_3[data1_3.match_hometeam_score_y == data1_3.match_awayteam_score_y] #filtering only draft matches\n",
    "a = np.histogram(draft_matches['dif'], bins=np.arange(-1, 1.1, 0.1))[0]  #defining bins with 0,1 and calculating the draft matches in these bins"
   ]
  },
  {
   "cell_type": "code",
   "execution_count": 17,
   "metadata": {},
   "outputs": [],
   "source": [
    "b = np.histogram(data_3['dif'], bins=np.arange(-1, 1.1, 0.1))[0] #calculating all matches in these bins\n",
    "for index in range(len(b)):\n",
    "    if b[index]==0:                        #preventing 0/0, dont affect the result \n",
    "        b[index]=1\n",
    "    "
   ]
  },
  {
   "cell_type": "code",
   "execution_count": 18,
   "metadata": {},
   "outputs": [],
   "source": [
    "actual_prob_draft=np.true_divide(a, b)  #real draft match rates\n"
   ]
  },
  {
   "cell_type": "code",
   "execution_count": 19,
   "metadata": {
    "scrolled": true
   },
   "outputs": [
    {
     "data": {
      "text/plain": [
       "Text(0.5,1,'1xBet')"
      ]
     },
     "execution_count": 19,
     "metadata": {},
     "output_type": "execute_result"
    },
    {
     "data": {
      "image/png": "[encoded data removed]",
      "text/plain": [
       "<matplotlib.figure.Figure at 0x2309ebc1438>"
      ]
     },
     "metadata": {},
     "output_type": "display_data"
    }
   ],
   "source": [
    "plt.plot(np.arange(-0.9,1.1,0.1),actual_prob_draft,'X',color='red')\n",
    "plt.plot(x,y,'.',color='blue')\n",
    "plt.xlabel('P(Home Win) - P(Away Win)')\n",
    "plt.ylabel('P(Draft)')\n",
    "plt.title('1xBet')"
   ]
  },
  {
   "cell_type": "code",
   "execution_count": 19,
   "metadata": {},
   "outputs": [],
   "source": [
    "#Comment:There is no bias in odds representing the probabilities"
   ]
  }
 ],
 "metadata": {
  "kernelspec": {
   "display_name": "Python 3",
   "language": "python",
   "name": "python3"
  },
  "language_info": {
   "codemirror_mode": {
    "name": "ipython",
    "version": 3
   },
   "file_extension": ".py",
   "mimetype": "text/x-python",
   "name": "python",
   "nbconvert_exporter": "python",
   "pygments_lexer": "ipython3",
   "version": "3.6.4"
  }
 },
 "nbformat": 4,
 "nbformat_minor": 2
}
