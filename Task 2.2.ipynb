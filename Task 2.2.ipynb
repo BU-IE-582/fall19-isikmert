{
 "cells": [
  {
   "cell_type": "code",
   "execution_count": 2,
   "metadata": {},
   "outputs": [],
   "source": [
    "#****Task 2 & Book_Maker: 10Bet******\n",
    "\n",
    "import numpy as np\n",
    "import pandas as pd\n",
    "from pandas import DataFrame\n",
    "import csv\n",
    "from matplotlib import pyplot as plt\n",
    "bets=pd.read_csv('C:\\\\Users\\\\MERT\\\\Desktop\\\\Dersler\\\\Data Mining\\\\Veriler\\\\bets.csv')\n",
    "matches=pd.read_csv('C:\\\\Users\\\\MERT\\\\Desktop\\\\Dersler\\\\Data Mining\\\\Veriler\\\\matches.csv')"
   ]
  },
  {
   "cell_type": "code",
   "execution_count": 3,
   "metadata": {},
   "outputs": [],
   "source": [
    "Second_Book_Maker=bets[bets.odd_bookmakers=='10Bet'] #second bookmaker is =10Bet\n",
    "Home_Win_List=Second_Book_Maker[Second_Book_Maker.variable=='odd_1'] #home, away and draft win filtered seperately\n",
    "Away_Win_List=Second_Book_Maker[Second_Book_Maker.variable=='odd_2']\n",
    "Draft_List=Second_Book_Maker[Second_Book_Maker.variable=='odd_x']\n",
    "Premier_League=matches[matches.league_id==148]"
   ]
  },
  {
   "cell_type": "code",
   "execution_count": 4,
   "metadata": {},
   "outputs": [],
   "source": [
    "data= pd.merge(Home_Win_List,Away_Win_List,on='match_id',how='inner') #firstly merge home and away win for a match\n",
    "data_1=pd.merge(data,Premier_League,on='match_id',how='inner') #secondly with merge premier league match to eliminate others"
   ]
  },
  {
   "cell_type": "code",
   "execution_count": 5,
   "metadata": {},
   "outputs": [],
   "source": [
    "data_2=pd.merge(data_1,Draft_List,on='match_id',how='inner') #finally draft merged to data"
   ]
  },
  {
   "cell_type": "code",
   "execution_count": 6,
   "metadata": {},
   "outputs": [],
   "source": [
    "data_2['Prob_Home']=1/(data_2['value_x'])  #probability of home team win"
   ]
  },
  {
   "cell_type": "code",
   "execution_count": 7,
   "metadata": {},
   "outputs": [],
   "source": [
    "data_2['Prob_Away']=1/(data_2['value_y'])  #probability of away team win"
   ]
  },
  {
   "cell_type": "code",
   "execution_count": 8,
   "metadata": {},
   "outputs": [],
   "source": [
    "data_2['Prob_Draft']=1/(data_2['value'])   #probability of draft"
   ]
  },
  {
   "cell_type": "code",
   "execution_count": 9,
   "metadata": {},
   "outputs": [],
   "source": [
    "Norm_Home=(data_2['Prob_Home'])/(data_2['Prob_Home']+data_2['Prob_Away']+data_2['Prob_Draft']) #normalization\n",
    "Norm_Away=(data_2['Prob_Away'])/(data_2['Prob_Home']+data_2['Prob_Away']+data_2['Prob_Draft']) \n",
    "Norm_Draft=(data_2['Prob_Draft'])/(data_2['Prob_Home']+data_2['Prob_Away']+data_2['Prob_Draft'])\n",
    "match_id=data_2['match_id']\n",
    "norm_bet={'match_id':match_id,\n",
    "         'Norm_Home':Norm_Home,\n",
    "         'Norm_Away':Norm_Away,\n",
    "         'Norm_Draft':Norm_Draft}\n"
   ]
  },
  {
   "cell_type": "code",
   "execution_count": 10,
   "metadata": {},
   "outputs": [
    {
     "name": "stdout",
     "output_type": "stream",
     "text": [
      "     match_id  Norm_Home  Norm_Away  Norm_Draft\n",
      "0      150842   0.693895   0.112656    0.193449\n",
      "1      150843   0.596076   0.169855    0.234069\n",
      "2      150844   0.704698   0.112752    0.182550\n",
      "3      154513   0.318725   0.382470    0.298805\n",
      "4      154516   0.682858   0.115879    0.201263\n",
      "5      154517   0.150896   0.626269    0.222835\n",
      "6      154518   0.078273   0.767075    0.154652\n",
      "7      154519   0.342282   0.375839    0.281879\n",
      "8      155388   0.273728   0.467340    0.258932\n",
      "9      156200   0.324020   0.367638    0.308342\n",
      "10     156845   0.607656   0.149282    0.243062\n",
      "11     156847   0.421094   0.282824    0.296082\n",
      "12     156848   0.854665   0.048034    0.097300\n",
      "13     156849   0.380415   0.322386    0.297199\n",
      "14     156850   0.223718   0.508450    0.267832\n",
      "15     158697   0.320957   0.363348    0.315695\n",
      "16     158699   0.098742   0.729342    0.171916\n",
      "17     158538   0.081812   0.751007    0.167181\n",
      "18     158539   0.633084   0.136565    0.230351\n",
      "19     158541   0.178020   0.562168    0.259813\n",
      "20     158542   0.407371   0.319108    0.273521\n",
      "21     158543   0.713650   0.100662    0.185688\n",
      "22     159175   0.155399   0.625631    0.218971\n",
      "23     159177   0.330590   0.355078    0.314332\n",
      "24     159180   0.426697   0.282373    0.290930\n",
      "25     159181   0.255319   0.478723    0.265957\n",
      "26     159182   0.244898   0.489796    0.265306\n",
      "27     159814   0.333895   0.359579    0.306526\n",
      "28     160597   0.560132   0.187809    0.252059\n",
      "29     161169   0.803245   0.067128    0.129627\n",
      "..        ...        ...        ...         ...\n",
      "254    224464   0.363825   0.371102    0.265073\n",
      "255    224482   0.468426   0.263902    0.267672\n",
      "256    224475   0.485127   0.261012    0.253861\n",
      "257    224478   0.570086   0.175328    0.254586\n",
      "258    224479   0.310976   0.414634    0.274390\n",
      "259    224480   0.848551   0.048680    0.102769\n",
      "260    224474   0.692708   0.119771    0.187521\n",
      "261    224476   0.262700   0.478249    0.259051\n",
      "262    224477   0.332198   0.357751    0.310051\n",
      "263    224483   0.273392   0.464767    0.261841\n",
      "264    224484   0.413305   0.304897    0.281799\n",
      "265    224485   0.379554   0.350908    0.269538\n",
      "266    224486   0.653897   0.132648    0.213456\n",
      "267    224487   0.479952   0.256413    0.263636\n",
      "268    224489   0.625155   0.139027    0.235818\n",
      "269    224490   0.411856   0.319543    0.268601\n",
      "270    224491   0.112566   0.703539    0.183895\n",
      "271    224492   0.669505   0.127437    0.203059\n",
      "272    224493   0.495065   0.228586    0.276350\n",
      "273    307209   0.449664   0.275168    0.275168\n",
      "274    224495   0.231881   0.506844    0.261275\n",
      "275    224496   0.325942   0.379157    0.294900\n",
      "276    224497   0.658253   0.135494    0.206253\n",
      "277    224500   0.411856   0.319543    0.268601\n",
      "278    224502   0.434154   0.278636    0.287210\n",
      "279    224503   0.468125   0.256507    0.275368\n",
      "280    224494   0.672913   0.137573    0.189514\n",
      "281    224498   0.836563   0.050881    0.112556\n",
      "282    224499   0.215828   0.507138    0.277034\n",
      "283    224501   0.241291   0.507635    0.251074\n",
      "\n",
      "[284 rows x 4 columns]\n"
     ]
    }
   ],
   "source": [
    "norm_prob= DataFrame(norm_bet,columns=['match_id','Norm_Home', 'Norm_Away', 'Norm_Draft'])\n",
    "print(norm_prob)"
   ]
  },
  {
   "cell_type": "code",
   "execution_count": 11,
   "metadata": {},
   "outputs": [],
   "source": [
    "x=data_2['Prob_Home']-data_2['Prob_Away']"
   ]
  },
  {
   "cell_type": "code",
   "execution_count": 12,
   "metadata": {},
   "outputs": [],
   "source": [
    "y=data_2['Prob_Draft']"
   ]
  },
  {
   "cell_type": "code",
   "execution_count": 13,
   "metadata": {},
   "outputs": [
    {
     "data": {
      "text/plain": [
       "Text(0.5,1,'10Bet')"
      ]
     },
     "execution_count": 13,
     "metadata": {},
     "output_type": "execute_result"
    },
    {
     "data": {
      "image/png": "[encoded data removed]",
      "text/plain": [
       "<matplotlib.figure.Figure at 0x1e0a57bdcc0>"
      ]
     },
     "metadata": {},
     "output_type": "display_data"
    }
   ],
   "source": [
    "plt.plot(x,y,'.',color='blue')\n",
    "plt.xlabel('P(Home Win) - P(Away Win)')\n",
    "plt.ylabel('P(Draft)')\n",
    "plt.title('10Bet')"
   ]
  },
  {
   "cell_type": "code",
   "execution_count": 14,
   "metadata": {},
   "outputs": [],
   "source": [
    "data_2['dif']=data_2['Prob_Home']-data_2['Prob_Away']"
   ]
  },
  {
   "cell_type": "code",
   "execution_count": 15,
   "metadata": {},
   "outputs": [],
   "source": [
    "data_3=pd.merge(data_2,matches,on='match_id',how='inner') #merging the match score and probabilities with respect to match_id"
   ]
  },
  {
   "cell_type": "code",
   "execution_count": 16,
   "metadata": {},
   "outputs": [],
   "source": [
    "draft_matches = data_3[data_3.match_hometeam_score_y == data_3.match_awayteam_score_y] #filtering only draft matches\n",
    "a = np.histogram(draft_matches['dif'], bins=np.arange(-1, 1.1, 0.1))[0]  #defining bins with 0,1 and calculating the draft matches in these bins"
   ]
  },
  {
   "cell_type": "code",
   "execution_count": 17,
   "metadata": {},
   "outputs": [],
   "source": [
    "b = np.histogram(data_3['dif'], bins=np.arange(-1, 1.1, 0.1))[0] #calculating all matches in these bins\n",
    "for index in range(len(b)):\n",
    "    if b[index]==0:                        #preventing 0/0, dont affect the result \n",
    "        b[index]=1\n",
    "    "
   ]
  },
  {
   "cell_type": "code",
   "execution_count": 18,
   "metadata": {},
   "outputs": [],
   "source": [
    "actual_prob_draft=np.true_divide(a, b)  #real draft match rates\n"
   ]
  },
  {
   "cell_type": "code",
   "execution_count": 19,
   "metadata": {
    "scrolled": true
   },
   "outputs": [
    {
     "data": {
      "text/plain": [
       "Text(0.5,1,'10Bet')"
      ]
     },
     "execution_count": 19,
     "metadata": {},
     "output_type": "execute_result"
    },
    {
     "data": {
      "image/png": "[encoded data removed]",
      "text/plain": [
       "<matplotlib.figure.Figure at 0x1e0a50d15f8>"
      ]
     },
     "metadata": {},
     "output_type": "display_data"
    }
   ],
   "source": [
    "plt.plot(np.arange(-0.9,1.1,0.1),actual_prob_draft,'X',color='red')\n",
    "plt.plot(x,y,'.',color='blue')\n",
    "plt.xlabel('P(Home Win) - P(Away Win)')\n",
    "plt.ylabel('P(Draft)')\n",
    "plt.title('10Bet')"
   ]
  },
  {
   "cell_type": "code",
   "execution_count": 19,
   "metadata": {},
   "outputs": [],
   "source": [
    "#Comment: There is no bias in odds representing the probabilities."
   ]
  }
 ],
 "metadata": {
  "kernelspec": {
   "display_name": "Python 3",
   "language": "python",
   "name": "python3"
  },
  "language_info": {
   "codemirror_mode": {
    "name": "ipython",
    "version": 3
   },
   "file_extension": ".py",
   "mimetype": "text/x-python",
   "name": "python",
   "nbconvert_exporter": "python",
   "pygments_lexer": "ipython3",
   "version": "3.6.4"
  }
 },
 "nbformat": 4,
 "nbformat_minor": 2
}
